{
 "cells": [
  {
   "cell_type": "code",
   "execution_count": 7,
   "metadata": {},
   "outputs": [
    {
     "name": "stdout",
     "output_type": "stream",
     "text": [
      "Final Weights: [1.0383619 1.0383619]\n"
     ]
    }
   ],
   "source": [
    "#Hebbian\n",
    "import numpy as np\n",
    "import matplotlib.pyplot as plt\n",
    "\n",
    "class HebbianNeuron:\n",
    "    def __init__(self, input_size, learning_rate=0.1):\n",
    "        \"\"\"Initialize weights and learning rate.\"\"\"\n",
    "        self.weights = np.ones(input_size) \n",
    "        self.learning_rate = learning_rate\n",
    "\n",
    "    def train(self, X):\n",
    "        \"\"\"Train the neuron using Hebbian learning.\"\"\"\n",
    "        for x in X:\n",
    "            y = np.dot(self.weights, x)  # Compute output\n",
    "            self.weights += self.learning_rate * x * y  \n",
    "            # Update weights based on the correlation between input and output\n",
    "\n",
    "X_train = np.array([0.5,0.3,0.2])\n",
    "\n",
    "# Train Hebbian Neuron\n",
    "neuron = HebbianNeuron(input_size=2, learning_rate=0.1)\n",
    "neuron.train(X_train)\n",
    "\n",
    "# Print final weights\n",
    "print(\"Final Weights:\", neuron.weights)\n"
   ]
  },
  {
   "cell_type": "code",
   "execution_count": null,
   "metadata": {},
   "outputs": [],
   "source": []
  }
 ],
 "metadata": {
  "kernelspec": {
   "display_name": "base",
   "language": "python",
   "name": "python3"
  },
  "language_info": {
   "codemirror_mode": {
    "name": "ipython",
    "version": 3
   },
   "file_extension": ".py",
   "mimetype": "text/x-python",
   "name": "python",
   "nbconvert_exporter": "python",
   "pygments_lexer": "ipython3",
   "version": "3.11.7"
  }
 },
 "nbformat": 4,
 "nbformat_minor": 2
}
