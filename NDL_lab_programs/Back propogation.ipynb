{
 "cells": [
  {
   "cell_type": "code",
   "execution_count": 2,
   "metadata": {},
   "outputs": [
    {
     "name": "stdout",
     "output_type": "stream",
     "text": [
      "Epoch 0, Loss: 0.0919\n",
      "Epoch 10, Loss: 0.0603\n",
      "Epoch 20, Loss: 0.0307\n",
      "Epoch 30, Loss: 0.0158\n",
      "Epoch 40, Loss: 0.0082\n"
     ]
    }
   ],
   "source": [
    "#Implement the back propagation algorithm for training a recurrent \n",
    "#network using temporal operation as a parameter into a layer feed forward network.\n",
    "import numpy as np\n",
    "\n",
    "np.random.seed(0)\n",
    "X = np.array([[0.1, 0.2], [0.3, 0.4]])  # Input sequence\n",
    "Y = np.array([[0.5], [0.6]])  # Target sequence\n",
    "W = np.random.randn(2, 2)  # Recurrent weights\n",
    "V = np.random.randn(2, 1)  # Output weights\n",
    "h = np.zeros(2)  # Hidden state\n",
    "lr = 0.01\n",
    "\n",
    "for epoch in range(50):\n",
    "    loss = 0\n",
    "    for t in range(len(X)):\n",
    "        h = np.tanh(np.dot(X[t], W) + h)  # Recurrent step\n",
    "        y_pred = np.dot(h, V)  # Output layer\n",
    "        error = Y[t] - y_pred\n",
    "        loss += np.mean(error**2)\n",
    "\n",
    "        dV = h[:, None] * error\n",
    "        dH = error * V.T * (1 - h**2)\n",
    "        dW = X[t][:, None] * dH\n",
    "\n",
    "        V += lr * dV\n",
    "        W += lr * dW\n",
    "\n",
    "    if epoch % 10 == 0:\n",
    "        print(f\"Epoch {epoch}, Loss: {loss:.4f}\")"
   ]
  },
  {
   "cell_type": "code",
   "execution_count": null,
   "metadata": {},
   "outputs": [],
   "source": []
  }
 ],
 "metadata": {
  "kernelspec": {
   "display_name": "base",
   "language": "python",
   "name": "python3"
  },
  "language_info": {
   "codemirror_mode": {
    "name": "ipython",
    "version": 3
   },
   "file_extension": ".py",
   "mimetype": "text/x-python",
   "name": "python",
   "nbconvert_exporter": "python",
   "pygments_lexer": "ipython3",
   "version": "3.11.7"
  }
 },
 "nbformat": 4,
 "nbformat_minor": 2
}
