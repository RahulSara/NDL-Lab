{
 "cells": [
  {
   "cell_type": "code",
   "execution_count": 7,
   "metadata": {},
   "outputs": [
    {
     "name": "stdout",
     "output_type": "stream",
     "text": [
      "Weights: [0.1 0.1]\n",
      "Bias: 0.0\n"
     ]
    }
   ],
   "source": [
    "import numpy as np\n",
    "class Neuron:\n",
    "    def __init__(self, learning_rate=0.1):\n",
    "        self.weights = np.zeros(inputs.shape[1])    \n",
    "        self.bias = 0     \n",
    "        self.learning_rate = learning_rate  \n",
    "\n",
    "    def predict(self, x):\n",
    "        output = np.dot(self.weights,x) + self.bias\n",
    "        return 1 if output > 0 else 0 #using binary step\n",
    "\n",
    "    def train(self, inputs, target, epochs=5):\n",
    "        for _ in range(epochs):\n",
    "            for x, y in zip(inputs, target):\n",
    "                prediction = self.predict(x)       \n",
    "                error = y - prediction             \n",
    "                self.weights += self.learning_rate * error * x  \n",
    "                self.bias += self.learning_rate * error         \n",
    "\n",
    "# Example usage\n",
    "inputs = np.array([[0, 0], [0, 1], [1, 0], [1, 1]])  \n",
    "target = np.array([0, 1, 1, 1])                    \n",
    "neuron = Neuron(learning_rate=0.1)  \n",
    "neuron.train(inputs, target)       \n",
    "\n",
    "# Print the final weights and bias\n",
    "print(\"Weights:\", neuron.weights)\n",
    "print(\"Bias:\", neuron.bias)\n"
   ]
  },
  {
   "cell_type": "code",
   "execution_count": 13,
   "metadata": {},
   "outputs": [
    {
     "name": "stdout",
     "output_type": "stream",
     "text": [
      "Predicted Class: B\n"
     ]
    }
   ],
   "source": [
    "#memory based\n",
    "import numpy as np\n",
    "from scipy.spatial import distance\n",
    "from collections import Counter\n",
    "\n",
    "class KNNNeuron:\n",
    "    def __init__(self, k=3):\n",
    "        self.k = k\n",
    "        self.memory = []  \n",
    "\n",
    "    def train(self, X, y):\n",
    "        self.memory = list(zip(X, y))\n",
    "\n",
    "    def predict(self, x):\n",
    "        \"\"\"Find k nearest neighbors and perform majority voting.\"\"\"\n",
    "        distances = [(distance.euclidean(x, xi), yi) for xi, yi in self.memory]\n",
    "        distances.sort(key=lambda d: d[0])  # Sort by distance\n",
    "        \n",
    "        # Select k nearest neighbors\n",
    "        k_nearest = distances[:self.k]\n",
    "        \n",
    "        # Extract labels of k-nearest neighbors\n",
    "        labels = [y for _, y in k_nearest]\n",
    "\n",
    "        # Majority voting using Counter\n",
    "        most_common = Counter(labels).most_common(1)\n",
    "        return most_common[0][0]  # Return the most frequent class\n",
    "\n",
    "# Example Usage:\n",
    "# Training data: Inputs (X) and class labels (y)\n",
    "X_train = np.array([[1, 2], [2, 3], [3, 4], [5, 6]])\n",
    "y_train = np.array([\"A\", \"A\", \"B\", \"B\"])  # Class labels\n",
    "\n",
    "neuron = KNNNeuron(k=2)\n",
    "neuron.train(X_train, y_train)\n",
    "\n",
    "\n",
    "input_sample = np.array([6.5, 3.5])\n",
    "output = neuron.predict(input_sample)\n",
    "print(\"Predicted Class:\", output)\n"
   ]
  },
  {
   "cell_type": "code",
   "execution_count": 1,
   "metadata": {},
   "outputs": [
    {
     "name": "stdout",
     "output_type": "stream",
     "text": [
      "Predictions: [0 1]\n"
     ]
    }
   ],
   "source": [
    "import numpy as np\n",
    "from sklearn.neighbors import KNeighborsClassifier\n",
    "\n",
    "# Sample dataset (2D points with binary class labels)\n",
    "X_train = np.array([[1, 2], [2, 3], [3, 1], [6, 5], [7, 7], [8, 6]])\n",
    "y_train = np.array([0, 0, 0, 1, 1, 1])\n",
    "\n",
    "X_test = np.array([[4, 3], [7, 5]])\n",
    "\n",
    "# Create and train the k-NN model\n",
    "knn = KNeighborsClassifier(n_neighbors=3)\n",
    "knn.fit(X_train, y_train)\n",
    "\n",
    "# Predict the class labels for test data\n",
    "predictions = knn.predict(X_test)\n",
    "\n",
    "print(\"Predictions:\", predictions)\n"
   ]
  },
  {
   "cell_type": "code",
   "execution_count": null,
   "metadata": {},
   "outputs": [],
   "source": []
  }
 ],
 "metadata": {
  "kernelspec": {
   "display_name": "base",
   "language": "python",
   "name": "python3"
  },
  "language_info": {
   "codemirror_mode": {
    "name": "ipython",
    "version": 3
   },
   "file_extension": ".py",
   "mimetype": "text/x-python",
   "name": "python",
   "nbconvert_exporter": "python",
   "pygments_lexer": "ipython3",
   "version": "3.11.7"
  }
 },
 "nbformat": 4,
 "nbformat_minor": 2
}
