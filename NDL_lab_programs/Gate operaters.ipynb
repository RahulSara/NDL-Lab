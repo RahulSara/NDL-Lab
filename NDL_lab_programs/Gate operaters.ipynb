{
 "cells": [
  {
   "cell_type": "code",
   "execution_count": 2,
   "metadata": {},
   "outputs": [
    {
     "name": "stdout",
     "output_type": "stream",
     "text": [
      "Input: [0 0], Predicted Output: 0\n",
      "Input: [0 1], Predicted Output: 1\n",
      "Input: [1 0], Predicted Output: 1\n",
      "Input: [1 1], Predicted Output: 1\n"
     ]
    }
   ],
   "source": [
    "import numpy as np\n",
    "\n",
    "def step_function(x):\n",
    "    return 1 if x >= 0 else 0\n",
    "\n",
    "def perceptron_learning(X, y, lr=0.1, epochs=10):\n",
    "    weights, bias = np.zeros(X.shape[1]), 0\n",
    "    for _ in range(epochs):\n",
    "        for xi, target in zip(X, y):\n",
    "            prediction = step_function(np.dot(xi, weights) + bias)\n",
    "            error = target - prediction\n",
    "            weights += lr * error * xi\n",
    "            bias += lr * error\n",
    "    return weights, bias\n",
    "\n",
    "def predict(X, weights, bias):\n",
    "    return step_function(np.dot(X, weights) + bias)\n",
    "\n",
    "X, y = np.array([[0, 0], [0, 1], [1, 0], [1, 1]]), np.array([0,1,1,1])\n",
    "weights, bias = perceptron_learning(X, y)\n",
    "for x in X:\n",
    "    print(f\"Input: {x}, Predicted Output: {predict(x, weights, bias)}\")"
   ]
  },
  {
   "cell_type": "code",
   "execution_count": null,
   "metadata": {},
   "outputs": [],
   "source": []
  }
 ],
 "metadata": {
  "kernelspec": {
   "display_name": "base",
   "language": "python",
   "name": "python3"
  },
  "language_info": {
   "codemirror_mode": {
    "name": "ipython",
    "version": 3
   },
   "file_extension": ".py",
   "mimetype": "text/x-python",
   "name": "python",
   "nbconvert_exporter": "python",
   "pygments_lexer": "ipython3",
   "version": "3.11.7"
  }
 },
 "nbformat": 4,
 "nbformat_minor": 2
}
