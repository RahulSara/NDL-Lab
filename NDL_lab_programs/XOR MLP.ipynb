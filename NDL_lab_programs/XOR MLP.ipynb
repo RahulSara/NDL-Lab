{
 "cells": [
  {
   "cell_type": "code",
   "execution_count": 1,
   "metadata": {},
   "outputs": [
    {
     "name": "stdout",
     "output_type": "stream",
     "text": [
      "\n",
      "learning rate: 0.01\n",
      "stopped at epoch 9999 with error 0.18168395490575923\n",
      "\n",
      "XOR Gate Results\n",
      "input:[0 0]  predicted output:0.30\n",
      "input:[0 1]  predicted output:0.49\n",
      "input:[1 0]  predicted output:0.71\n",
      "input:[1 1]  predicted output:0.54\n",
      "\n",
      "learning rate: 0.1\n",
      "stopped at epoch 4988 with error 0.0099969559145286\n",
      "\n",
      "XOR Gate Results\n",
      "input:[0 0]  predicted output:0.09\n",
      "input:[0 1]  predicted output:0.90\n",
      "input:[1 0]  predicted output:0.90\n",
      "input:[1 1]  predicted output:0.11\n",
      "\n",
      "learning rate: 0.5\n",
      "stopped at epoch 998 with error 0.0099988156414071\n",
      "\n",
      "XOR Gate Results\n",
      "input:[0 0]  predicted output:0.09\n",
      "input:[0 1]  predicted output:0.90\n",
      "input:[1 0]  predicted output:0.90\n",
      "input:[1 1]  predicted output:0.11\n"
     ]
    }
   ],
   "source": [
    "#LAB3B-XOR USING MLP,ERROR PROP BY ITERATING LR\n",
    "import numpy as np\n",
    "\n",
    "inputs=np.array([[0,0],[0,1],[1,0],[1,1]])\n",
    "outputs=np.array([[0],[1],[1],[0]])\n",
    "\n",
    "for lr in[0.01,0.1,0.5]:\n",
    "    np.random.seed(0)\n",
    "    w1=np.random.randn(2,2)\n",
    "    w2=np.random.randn(2,1)\n",
    "    b1=np.zeros(2)\n",
    "    b2=np.zeros(1)\n",
    "\n",
    "    for epoch in range(10000):\n",
    "        z1=np.dot(inputs,w1)+b1\n",
    "        a1=1/(1+np.exp(-z1))\n",
    "        z2=np.dot(a1,w2)+b2\n",
    "        a2=1/(1+np.exp(-z2))\n",
    "        error=np.mean((outputs-a2)**2)\n",
    "        if error<0.01:\n",
    "            break\n",
    "\n",
    "        d2=(a2-outputs)*a2*(1-a2)\n",
    "        d1=np.dot(d2,w2.T)*a1*(1-a1)\n",
    "\n",
    "        w2-=lr*np.dot(a1.T,d2)\n",
    "        b2-=lr*np.sum(d2)\n",
    "        w1-=lr*np.dot(inputs.T,d1)\n",
    "        b1-=lr*np.sum(d1)\n",
    "    print('\\nlearning rate:',lr)\n",
    "    print('stopped at epoch',epoch,'with error',error)\n",
    "\n",
    "    print('\\nXOR Gate Results')\n",
    "    for i,o in zip(inputs,a2):\n",
    "        print(f'input:{i}  predicted output:{o[0]:.2f}')"
   ]
  },
  {
   "cell_type": "code",
   "execution_count": null,
   "metadata": {},
   "outputs": [],
   "source": []
  }
 ],
 "metadata": {
  "kernelspec": {
   "display_name": "base",
   "language": "python",
   "name": "python3"
  },
  "language_info": {
   "codemirror_mode": {
    "name": "ipython",
    "version": 3
   },
   "file_extension": ".py",
   "mimetype": "text/x-python",
   "name": "python",
   "nbconvert_exporter": "python",
   "pygments_lexer": "ipython3",
   "version": "3.11.7"
  }
 },
 "nbformat": 4,
 "nbformat_minor": 2
}
