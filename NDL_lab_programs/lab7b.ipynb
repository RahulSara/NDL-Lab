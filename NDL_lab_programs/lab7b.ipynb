{
 "cells": [
  {
   "cell_type": "code",
   "execution_count": 1,
   "metadata": {},
   "outputs": [
    {
     "name": "stdout",
     "output_type": "stream",
     "text": [
      "Recalled Pattern: [1.0, -1.0, 1.0, -1.0]\n"
     ]
    }
   ],
   "source": [
    "#hopfield\n",
    "\n",
    "import numpy as np\n",
    "\n",
    "class HopfieldNetwork:\n",
    "    def __init__(self, size):\n",
    "        self.size = size\n",
    "        self.weights = np.zeros((size, size))\n",
    "\n",
    "    def train(self, patterns):\n",
    "        \"\"\" Train the network using the Hebbian learning rule \"\"\"\n",
    "        for p in patterns:\n",
    "            p = np.array(p).reshape(-1, 1)  # Convert to column vector\n",
    "            self.weights += np.dot(p, p.T)  # Hebbian learning\n",
    "        np.fill_diagonal(self.weights, 0)  # No self-connections\n",
    "\n",
    "    def recall(self, pattern, steps=5):\n",
    "        \"\"\" Recall a pattern by iterating the network \"\"\"\n",
    "        pattern = np.array(pattern)\n",
    "        for _ in range(steps):\n",
    "            pattern = np.sign(np.dot(self.weights, pattern))  # Update neurons\n",
    "        return pattern\n",
    "\n",
    "# Example usage\n",
    "patterns = [[1, -1, 1, -1], [-1, 1, -1, 1]]  # Memory patterns\n",
    "network = HopfieldNetwork(size=4)\n",
    "network.train(patterns)\n",
    "\n",
    "test_pattern = [1, -1, -1, -1]  # Noisy input\n",
    "recalled_pattern = network.recall(test_pattern)\n",
    "print(\"Recalled Pattern:\", recalled_pattern.tolist())\n"
   ]
  },
  {
   "cell_type": "code",
   "execution_count": null,
   "metadata": {},
   "outputs": [],
   "source": []
  }
 ],
 "metadata": {
  "kernelspec": {
   "display_name": "base",
   "language": "python",
   "name": "python3"
  },
  "language_info": {
   "codemirror_mode": {
    "name": "ipython",
    "version": 3
   },
   "file_extension": ".py",
   "mimetype": "text/x-python",
   "name": "python",
   "nbconvert_exporter": "python",
   "pygments_lexer": "ipython3",
   "version": "3.11.7"
  }
 },
 "nbformat": 4,
 "nbformat_minor": 2
}
